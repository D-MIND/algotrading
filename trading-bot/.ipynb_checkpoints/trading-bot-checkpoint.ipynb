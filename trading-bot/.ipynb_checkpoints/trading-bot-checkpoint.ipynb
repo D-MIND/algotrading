{
 "cells": [
  {
   "cell_type": "code",
   "execution_count": 1,
   "metadata": {},
   "outputs": [],
   "source": [
    "import time\n",
    "import sys, getopt\n",
    "import datetime\n",
    "from poloniex import poloniex"
   ]
  },
  {
   "cell_type": "code",
   "execution_count": 3,
   "metadata": {},
   "outputs": [],
   "source": [
    "# initializing variables\n",
    "period = 10\n",
    "pair = \"BTC_XMR\"\n",
    "prices = []\n",
    "currentMovingAverage = 0;\n",
    "lengthOfMA = 0\n",
    "startTime = False\n",
    "endTime = False\n",
    "historicalData = False\n",
    "tradePlaced = False\n",
    "typeOfTrade = False\n",
    "dataDate = \"\"\n",
    "orderNumber = \"\""
   ]
  },
  {
   "cell_type": "code",
   "execution_count": 40,
   "metadata": {},
   "outputs": [
    {
     "name": "stdout",
     "output_type": "stream",
     "text": [
      "-p 300\n",
      "-s 1491048000\n",
      "-e 1491091200\n"
     ]
    }
   ],
   "source": [
    "# emulate opts & args from command line options: instead of changing the full code i adopt this approach\n",
    "opts = [['-p','300'], \n",
    "        ['-s','1491048000'], \n",
    "        ['-e', '1491091200']\n",
    "       ]"
   ]
  },
  {
   "cell_type": "code",
   "execution_count": 26,
   "metadata": {},
   "outputs": [
    {
     "name": "stdout",
     "output_type": "stream",
     "text": [
      "<type 'str'>\n",
      "<type 'str'>\n",
      "<type 'str'>\n"
     ]
    },
    {
     "ename": "KeyError",
     "evalue": "0",
     "output_type": "error",
     "traceback": [
      "\u001b[0;31m\u001b[0m",
      "\u001b[0;31mKeyError\u001b[0mTraceback (most recent call last)",
      "\u001b[0;32m<ipython-input-26-435405076087>\u001b[0m in \u001b[0;36m<module>\u001b[0;34m()\u001b[0m\n\u001b[1;32m     34\u001b[0m     \u001b[0;31m# if backtesting then pop holdest price\u001b[0m\u001b[0;34m\u001b[0m\u001b[0;34m\u001b[0m\u001b[0m\n\u001b[1;32m     35\u001b[0m     \u001b[0;32mif\u001b[0m \u001b[0;34m(\u001b[0m\u001b[0mstartTime\u001b[0m \u001b[0;32mand\u001b[0m \u001b[0mhistoricalData\u001b[0m\u001b[0;34m)\u001b[0m\u001b[0;34m:\u001b[0m\u001b[0;34m\u001b[0m\u001b[0m\n\u001b[0;32m---> 36\u001b[0;31m         \u001b[0mnextDataPoint\u001b[0m \u001b[0;34m=\u001b[0m \u001b[0mhistoricalData\u001b[0m\u001b[0;34m.\u001b[0m\u001b[0mpop\u001b[0m\u001b[0;34m(\u001b[0m\u001b[0;36m0\u001b[0m\u001b[0;34m)\u001b[0m\u001b[0;34m\u001b[0m\u001b[0m\n\u001b[0m\u001b[1;32m     37\u001b[0m         \u001b[0mlastPairPrice\u001b[0m \u001b[0;34m=\u001b[0m \u001b[0mnextDataPoint\u001b[0m\u001b[0;34m[\u001b[0m\u001b[0;34m'weightedAverage'\u001b[0m\u001b[0;34m]\u001b[0m\u001b[0;34m\u001b[0m\u001b[0m\n\u001b[1;32m     38\u001b[0m         \u001b[0mdataDate\u001b[0m \u001b[0;34m=\u001b[0m \u001b[0mdatetime\u001b[0m\u001b[0;34m.\u001b[0m\u001b[0mdatetime\u001b[0m\u001b[0;34m.\u001b[0m\u001b[0mfromtimestamp\u001b[0m\u001b[0;34m(\u001b[0m\u001b[0mint\u001b[0m\u001b[0;34m(\u001b[0m\u001b[0mnextDataPoint\u001b[0m\u001b[0;34m[\u001b[0m\u001b[0;34m'date'\u001b[0m\u001b[0;34m]\u001b[0m\u001b[0;34m)\u001b[0m\u001b[0;34m)\u001b[0m\u001b[0;34m.\u001b[0m\u001b[0mstrftime\u001b[0m\u001b[0;34m(\u001b[0m\u001b[0;34m'%Y-%m-%d %H:%M:%S'\u001b[0m\u001b[0;34m)\u001b[0m\u001b[0;34m\u001b[0m\u001b[0m\n",
      "\u001b[0;31mKeyError\u001b[0m: 0"
     ]
    }
   ],
   "source": [
    "for opt, arg in opts:\n",
    "    if opt == '-h':\n",
    "        print 'trading-bot.py -p <period length> -c <currency pair> -n <period of moving average>'\n",
    "        sys.exit()\n",
    "    elif opt in (\"-p\", \"--period\"):\n",
    "        # period in seconds\n",
    "        if (int(arg) in [300,900,1800,7200,14400,86400]):\n",
    "            period = arg\n",
    "        else:\n",
    "            print 'Poloniex requires periods in 300,900,1800,7200,14400, or 86400 second increments'\n",
    "            sys.exit(2)\n",
    "    elif opt in (\"-c\", \"--currency\"):\n",
    "        # currency specification\n",
    "        pair = arg\n",
    "    elif opt in (\"-n\", \"--points\"):\n",
    "        # moving average\n",
    "        lengthOfMA = int(arg)\n",
    "    elif opt in (\"-s\"):\n",
    "        # start of time series for backtesting\n",
    "        startTime = arg\n",
    "        print type(startTime)\n",
    "    elif opt in (\"-e\"):\n",
    "        # end of time series for backtesting\n",
    "        endTime = arg\n",
    "\n",
    "# connect to poloniex\n",
    "conn = poloniex('key goes here','key goes here')\n",
    "\n",
    "#if startTime is provided then download timeseries for backtesting\n",
    "if (startTime):\n",
    "    historicalData = conn.api_query(\"returnChartData\",{\"currencyPair\":pair,\"start\":startTime,\"end\":endTime,\"period\":period})\n",
    "\n",
    "while True:\n",
    "    # if backtesting then pop holdest price \n",
    "    if (startTime and historicalData):\n",
    "        nextDataPoint = historicalData.pop(0)\n",
    "        lastPairPrice = nextDataPoint['weightedAverage']\n",
    "        dataDate = datetime.datetime.fromtimestamp(int(nextDataPoint['date'])).strftime('%Y-%m-%d %H:%M:%S')\n",
    "    elif(startTime and not historicalData):\n",
    "        # finished to read historical data\n",
    "        exit()\n",
    "    else:\n",
    "        # if not backtesting\n",
    "        currentValues = conn.api_query(\"returnTicker\")\n",
    "        lastPairPrice = currentValues[pair][\"last\"]\n",
    "        dataDate = datetime.datetime.now()\n",
    "\n",
    "    if (len(prices) > 0):\n",
    "        # compute moving average\n",
    "        currentMovingAverage = sum(prices) / float(len(prices))\n",
    "        previousPrice = prices[-1]\n",
    "        # trading strategy\n",
    "        if (not tradePlaced):\n",
    "            if ( (lastPairPrice > currentMovingAverage) and (lastPairPrice < previousPrice) ):\n",
    "                print \"SELL ORDER\"\n",
    "                #orderNumber = conn.sell(pair,lastPairPrice,.01)\n",
    "                tradePlaced = True\n",
    "                typeOfTrade = \"short\"\n",
    "            elif ( (lastPairPrice < currentMovingAverage) and (lastPairPrice > previousPrice) ):\n",
    "                print \"BUY ORDER\"\n",
    "                #orderNumber = conn.buy(pair,lastPairPrice,.01)\n",
    "                tradePlaced = True\n",
    "                typeOfTrade = \"long\"\n",
    "        elif (typeOfTrade == \"short\"):\n",
    "            if ( lastPairPrice < currentMovingAverage ):\n",
    "                print \"EXIT TRADE\"\n",
    "                #conn.cancel(pair,orderNumber)\n",
    "                tradePlaced = False\n",
    "                typeOfTrade = False\n",
    "        elif (typeOfTrade == \"long\"):\n",
    "            if ( lastPairPrice > currentMovingAverage ):\n",
    "                print \"EXIT TRADE\"\n",
    "                #conn.cancel(pair,orderNumber)\n",
    "                tradePlaced = False\n",
    "                typeOfTrade = False\n",
    "    else:\n",
    "        previousPrice = 0\n",
    "\n",
    "    print \"%s Period: %ss %s: %s Moving Average: %s\" % (dataDate,period,pair,lastPairPrice,currentMovingAverage)\n",
    "\n",
    "    prices.append(float(lastPairPrice))\n",
    "    prices = prices[-lengthOfMA:]\n",
    "    if (not startTime):\n",
    "        time.sleep(int(period))"
   ]
  },
  {
   "cell_type": "code",
   "execution_count": 27,
   "metadata": {},
   "outputs": [],
   "source": [
    "conn = poloniex('key goes here','key goes here')"
   ]
  },
  {
   "cell_type": "code",
   "execution_count": 36,
   "metadata": {},
   "outputs": [],
   "source": [
    "historicalData = conn.api_query(\"returnChartData\",{\"currencyPair\":pair,\"start\":'1491048000',\"end\":'1491091200',\"period\":'300'})"
   ]
  },
  {
   "cell_type": "code",
   "execution_count": 38,
   "metadata": {},
   "outputs": [
    {
     "data": {
      "text/plain": [
       "'e'"
      ]
     },
     "execution_count": 38,
     "metadata": {},
     "output_type": "execute_result"
    }
   ],
   "source": [
    "startTime"
   ]
  },
  {
   "cell_type": "code",
   "execution_count": 14,
   "metadata": {},
   "outputs": [
    {
     "name": "stdout",
     "output_type": "stream",
     "text": [
      "Help on method api_query in module poloniex:\n",
      "\n",
      "api_query(self, command, req={}) method of poloniex.poloniex instance\n",
      "\n"
     ]
    }
   ],
   "source": [
    "help(conn.api_query)"
   ]
  },
  {
   "cell_type": "code",
   "execution_count": null,
   "metadata": {},
   "outputs": [],
   "source": []
  }
 ],
 "metadata": {
  "kernelspec": {
   "display_name": "Python 2",
   "language": "python",
   "name": "python2"
  },
  "language_info": {
   "codemirror_mode": {
    "name": "ipython",
    "version": 2
   },
   "file_extension": ".py",
   "mimetype": "text/x-python",
   "name": "python",
   "nbconvert_exporter": "python",
   "pygments_lexer": "ipython2",
   "version": "2.7.14"
  }
 },
 "nbformat": 4,
 "nbformat_minor": 2
}
